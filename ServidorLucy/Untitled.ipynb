{
 "cells": [
  {
   "cell_type": "markdown",
   "metadata": {
    "hide_input": true
   },
   "source": [
    "```mysql\n",
    "select \n",
    "\t\tTO_CHAR(stoinfo.created_at at time zone 'utc', 'YYYY-MM') datan,\n",
    "\t\tstoinfo.country,\n",
    "\t\tcount(case when pred.predicted_prob is null \n",
    "\t\t\t\t\t\tAND stoinfo.verified = true\n",
    "\t\t\t\t\t\tAND stoinfo.state <> 4 \n",
    "\t\t\t\t\t\tand stoinfo.created_at >= '2017-10-01 00:00:00'\n",
    "\t\t\t\t\t\tand stoinfo.created_at <= NOW() -interval '21 days'\n",
    "\t\t\t\tthen 1\n",
    "\t\t\t\telse null end) qtdNULL\n",
    "from tienda_nube_tunnel.mwp_store_info stoinfo\n",
    "\tleft join data_predictors.new_sellers_preditions pred\n",
    "\ton stoinfo.id = pred.store_id\n",
    "where  pred.predicted_prob is null \n",
    "\tAND stoinfo.verified = true\n",
    "\tAND stoinfo.state <> 4 \n",
    "\tand stoinfo.created_at >= '2017-10-01 00:00:00'\n",
    "\tand stoinfo.created_at <= (NOW() -interval '21 days')\n",
    "group by TO_CHAR(stoinfo.created_at at time zone 'utc', 'YYYY-MM') , stoinfo.country\n",
    "\n",
    "```"
   ]
  },
  {
   "cell_type": "markdown",
   "metadata": {},
   "source": [
    "![alt text](figure.png \"Title\")"
   ]
  },
  {
   "cell_type": "markdown",
   "metadata": {},
   "source": [
    "# O que ocorreu em maio?"
   ]
  },
  {
   "cell_type": "markdown",
   "metadata": {
    "hide_input": false
   },
   "source": [
    "Entre os dias 2019-05-06 18:14:57 - 2019-05-10 09:08:16 785 lojas não tiveram score calculado. Elas se enquadram nos critérios de filtro que aplicamos no preditor. Vale ressaltar que: o preditor tem uma janela de 21 dias, isso significa que está calculando hoje (1 da manhã) as probabilidades relativas ao dia 2019-05-10 (último dia onde tivemos relato de problema). Vejo duas hipóteses com alguma correlação entre elas:\n",
    "\n",
    "1 - Alguma alteração no código fonte do preditor dia: 2019-05-06\n",
    "\n",
    "2 - Algum erro (corolário ou não dessa possível alteração citada acima) começou causando erro e **CONTINUA** causando erro\n",
    "\n",
    "É importante ressaltar que não temos certeza se o erro foi corrigido! Não é um erro do dia 10, é um erro atual dado o funcionamento em janela do preditor"
   ]
  },
  {
   "cell_type": "markdown",
   "metadata": {},
   "source": [
    "```mysql\n",
    "select \n",
    "\t\tpredicted_prob,\n",
    "\t\tstoinfo.id,\n",
    "\t\tstoinfo.country,\n",
    "\t\tstoinfo.created_at,\n",
    "\t\tstoinfo.verified,\n",
    "\t\tstoinfo.state\n",
    "from tienda_nube_tunnel.mwp_store_info stoinfo\n",
    "\tleft join data_predictors.new_sellers_preditions pred\n",
    "\ton stoinfo.id = pred.store_id\n",
    "where  pred.predicted_prob is null \n",
    "\tAND stoinfo.verified = true\n",
    "\tAND stoinfo.state <> 4 \n",
    "\tand stoinfo.created_at >= '2019-05-01 00:00:00'\n",
    "\tand stoinfo.created_at <= (NOW() -interval '21 days')\n",
    "```"
   ]
  },
  {
   "cell_type": "markdown",
   "metadata": {},
   "source": [
    "![alt text](figura2.png \"Title\")"
   ]
  },
  {
   "cell_type": "markdown",
   "metadata": {},
   "source": [
    "# Como proceder?"
   ]
  },
  {
   "cell_type": "markdown",
   "metadata": {},
   "source": [
    "Falar com loli e sugerir:\n",
    "\n",
    "0 - olhar logs\n",
    "\n",
    "\n",
    "1 - Rodar o preditor para essas lojas em **minha máquina** e avaliar se tem erro\n",
    "\n",
    "\n",
    "2 - Rodar o preditor para essas lojas no **servidor** e avaliar se tem erro\n",
    "\n",
    "\n",
    "3 - Ignorar"
   ]
  },
  {
   "cell_type": "markdown",
   "metadata": {},
   "source": [
    "# Olhar logs"
   ]
  },
  {
   "cell_type": "markdown",
   "metadata": {},
   "source": [
    "Olhar logs dos dias: $31,30,29,28,27$ que são os dias relativos aos dias quando ocorreram os problemas, lembrando que o preditor roda 21d no passado."
   ]
  },
  {
   "cell_type": "markdown",
   "metadata": {},
   "source": [
    "![alt text](XXXX.png \"Title\")"
   ]
  },
  {
   "cell_type": "markdown",
   "metadata": {},
   "source": [
    "![alt text](XXXX.png \"Title\")"
   ]
  },
  {
   "cell_type": "markdown",
   "metadata": {},
   "source": [
    "![alt text](XXXX.png \"Title\")"
   ]
  },
  {
   "cell_type": "markdown",
   "metadata": {},
   "source": [
    "![alt text](XXXX.png \"Title\")"
   ]
  },
  {
   "cell_type": "markdown",
   "metadata": {},
   "source": [
    "![alt text](XXXX.png \"Title\")"
   ]
  },
  {
   "cell_type": "markdown",
   "metadata": {},
   "source": []
  },
  {
   "cell_type": "code",
   "execution_count": null,
   "metadata": {},
   "outputs": [],
   "source": []
  },
  {
   "cell_type": "code",
   "execution_count": null,
   "metadata": {},
   "outputs": [],
   "source": []
  },
  {
   "cell_type": "code",
   "execution_count": null,
   "metadata": {},
   "outputs": [],
   "source": []
  },
  {
   "cell_type": "code",
   "execution_count": null,
   "metadata": {},
   "outputs": [],
   "source": []
  },
  {
   "cell_type": "code",
   "execution_count": null,
   "metadata": {},
   "outputs": [],
   "source": []
  },
  {
   "cell_type": "code",
   "execution_count": null,
   "metadata": {},
   "outputs": [],
   "source": []
  }
 ],
 "metadata": {
  "kernelspec": {
   "display_name": "Python 3",
   "language": "python",
   "name": "python3"
  },
  "language_info": {
   "codemirror_mode": {
    "name": "ipython",
    "version": 3
   },
   "file_extension": ".py",
   "mimetype": "text/x-python",
   "name": "python",
   "nbconvert_exporter": "python",
   "pygments_lexer": "ipython3",
   "version": "3.6.5"
  }
 },
 "nbformat": 4,
 "nbformat_minor": 2
}
